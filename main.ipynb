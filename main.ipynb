{
 "cells": [
  {
   "cell_type": "code",
   "execution_count": 2,
   "id": "44afe051",
   "metadata": {},
   "outputs": [],
   "source": [
    "import os\n",
    "import json\n",
    "import pickle\n",
    "import numpy as np\n",
    "import tensorflow as tf\n",
    "from tensorflow.keras.preprocessing.text import Tokenizer\n",
    "from tensorflow.keras.preprocessing.sequence import pad_sequences\n",
    "from tensorflow.keras import layers, models\n",
    "import nltk"
   ]
  },
  {
   "cell_type": "markdown",
   "id": "c7b56db6",
   "metadata": {},
   "source": [
    "# Prepare Corpus"
   ]
  },
  {
   "cell_type": "code",
   "execution_count": 4,
   "id": "ae6da1d4",
   "metadata": {},
   "outputs": [
    {
     "name": "stderr",
     "output_type": "stream",
     "text": [
      "[nltk_data] Downloading package punkt_tab to\n",
      "[nltk_data]     C:\\Users\\lilyc\\AppData\\Roaming\\nltk_data...\n",
      "[nltk_data]   Package punkt_tab is already up-to-date!\n"
     ]
    }
   ],
   "source": [
    "text = open(\"large_text.txt\").read()\n",
    "\n",
    "nltk.download('punkt_tab')\n",
    "CORPUS = nltk.sent_tokenize(text)"
   ]
  },
  {
   "cell_type": "code",
   "execution_count": 5,
   "id": "45a67b62",
   "metadata": {},
   "outputs": [],
   "source": [
    "def build_tokenizer(texts, oov_token=\"<OOV>\", lower=True, num_words=None):\n",
    "    tok = Tokenizer(oov_token=oov_token, lower=lower, num_words=num_words)\n",
    "    tok.fit_on_texts(texts)\n",
    "    return tok\n",
    "\n",
    "def make_ngram_dataset(tokenizer, texts, min_len=2):\n",
    "    \"\"\"\n",
    "    Builds n-gram sequences for next-word prediction.\n",
    "    Each sequence[i] is tokens[0:i] -> predict tokens[i]\n",
    "    \"\"\"\n",
    "    sequences = []\n",
    "    for line in texts:\n",
    "        tokens = tokenizer.texts_to_sequences([line])[0]\n",
    "        # create incremental n-grams: [w1,w2]->w3, [w1,w2,w3]->w4, ...\n",
    "        for i in range(min_len, len(tokens) + 1):\n",
    "            sequences.append(tokens[:i])\n",
    "    if not sequences:\n",
    "        raise ValueError(\"No sequences constructed; check your corpus/tokenizer.\")\n",
    "\n",
    "    max_len = max(len(s) for s in sequences)\n",
    "    sequences = pad_sequences(sequences, maxlen=max_len, padding=\"pre\")\n",
    "    X, y = sequences[:, :-1], sequences[:, -1]\n",
    "    vocab_size = min(tokenizer.num_words or len(tokenizer.word_index) + 1,\n",
    "                     len(tokenizer.word_index) + 1)\n",
    "    return X, y, max_len, vocab_size"
   ]
  },
  {
   "cell_type": "markdown",
   "id": "eb350d26",
   "metadata": {},
   "source": [
    "# Build Model"
   ]
  },
  {
   "cell_type": "code",
   "execution_count": null,
   "id": "65ebfd5f",
   "metadata": {},
   "outputs": [],
   "source": [
    "def build_model(vocab_size, seq_len_minus1, embed_dim=128, rnn_units=256, dropout=0.2):\n",
    "    model = models.Sequential([\n",
    "        layers.Embedding(input_dim=vocab_size, output_dim=embed_dim, input_length=seq_len_minus1),\n",
    "        layers.Bidirectional(layers.LSTM(rnn_units, return_sequences=False)),\n",
    "        layers.Dropout(dropout),\n",
    "        layers.Dense(rnn_units, activation=\"relu\"),\n",
    "        layers.Dense(vocab_size, activation=\"softmax\")\n",
    "    ])\n",
    "    model.compile(\n",
    "        loss=\"sparse_categorical_crossentropy\",\n",
    "        optimizer=tf.keras.optimizers.Adam(learning_rate=1e-3),\n",
    "        metrics=[\"accuracy\"]\n",
    "    )\n",
    "    return model"
   ]
  },
  {
   "cell_type": "markdown",
   "id": "bfe17041",
   "metadata": {},
   "source": [
    "# Inference Helpers"
   ]
  },
  {
   "cell_type": "code",
   "execution_count": 7,
   "id": "b5ef95f2",
   "metadata": {},
   "outputs": [],
   "source": [
    "def _apply_temperature(logits, temperature=1.0):\n",
    "    logits = np.asarray(logits, dtype=np.float64)\n",
    "    if temperature <= 0:\n",
    "        # zero (greedy) or negative => fallback to greedy\n",
    "        one_hot = np.zeros_like(logits)\n",
    "        one_hot[np.argmax(logits)] = 1.0\n",
    "        return one_hot\n",
    "    logits = np.log(np.maximum(logits, 1e-9)) / float(temperature)\n",
    "    exp = np.exp(logits - np.max(logits))\n",
    "    return exp / np.sum(exp)\n",
    "\n",
    "def suggest_next_words(model, tokenizer, seed_text, seq_len_minus1, top_k=5, temperature=1.0):\n",
    "    \"\"\"\n",
    "    Returns top_k candidate next words (no sampling), optionally temperature-adjusted.\n",
    "    \"\"\"\n",
    "    seq = tokenizer.texts_to_sequences([seed_text])[0]\n",
    "    seq = pad_sequences([seq], maxlen=seq_len_minus1, padding=\"pre\")\n",
    "    preds = model.predict(seq, verbose=0)[0]\n",
    "    probs = _apply_temperature(preds, temperature=temperature)\n",
    "\n",
    "    top_idx = probs.argsort()[-top_k:][::-1]\n",
    "    idx2word = {idx: w for w, idx in tokenizer.word_index.items() if idx < (tokenizer.num_words or 10**9)}\n",
    "    return [(idx2word.get(i, \"<UNK>\"), float(probs[i])) for i in top_idx]\n",
    "\n",
    "def generate_text(model, tokenizer, seed_text, seq_len_minus1, num_words=10, temperature=1.0, greedy=False):\n",
    "    \"\"\"\n",
    "    Autoregressively generates words. If greedy=True, always pick argmax.\n",
    "    Otherwise sample by temperature.\n",
    "    \"\"\"\n",
    "    out = seed_text.strip()\n",
    "    vocab_limit = tokenizer.num_words or (len(tokenizer.word_index) + 1)\n",
    "    idx2word = {idx: w for w, idx in tokenizer.word_index.items() if idx < vocab_limit}\n",
    "\n",
    "    for _ in range(num_words):\n",
    "        seq = tokenizer.texts_to_sequences([out])[0]\n",
    "        seq = pad_sequences([seq], maxlen=seq_len_minus1, padding=\"pre\")\n",
    "        preds = model.predict(seq, verbose=0)[0]\n",
    "        if greedy or temperature <= 0:\n",
    "            next_id = int(np.argmax(preds))\n",
    "        else:\n",
    "            probs = _apply_temperature(preds, temperature=temperature)\n",
    "            next_id = int(np.random.choice(len(probs), p=probs))\n",
    "        next_word = idx2word.get(next_id, None)\n",
    "        if not next_word:\n",
    "            break\n",
    "        out += \" \" + next_word\n",
    "    return out"
   ]
  },
  {
   "cell_type": "markdown",
   "id": "bcdb22f7",
   "metadata": {},
   "source": [
    "# Save/Load"
   ]
  },
  {
   "cell_type": "code",
   "execution_count": 8,
   "id": "7410aeeb",
   "metadata": {},
   "outputs": [],
   "source": [
    "def save_artifacts(model, tokenizer, save_dir=\"predictive_text_artifacts\"):\n",
    "    os.makedirs(save_dir, exist_ok=True)\n",
    "    model.save(os.path.join(save_dir, \"model.keras\"))  # Keras v3 format\n",
    "    tok_path = os.path.join(save_dir, \"tokenizer.pkl\")\n",
    "    with open(tok_path, \"wb\") as f:\n",
    "        pickle.dump({\n",
    "            \"config\": tokenizer.to_json(),\n",
    "            \"num_words\": tokenizer.num_words\n",
    "        }, f)\n",
    "    meta = {\n",
    "        \"vocab_size\": len(tokenizer.word_index) + 1,\n",
    "        \"num_words_limit\": tokenizer.num_words,\n",
    "    }\n",
    "    with open(os.path.join(save_dir, \"meta.json\"), \"w\") as f:\n",
    "        json.dump(meta, f, indent=2)\n",
    "    print(f\"Saved model + tokenizer to: {save_dir}\")\n",
    "\n",
    "def load_artifacts(save_dir=\"predictive_text_artifacts\"):\n",
    "    model = tf.keras.models.load_model(os.path.join(save_dir, \"model.keras\"))\n",
    "    with open(os.path.join(save_dir, \"tokenizer.pkl\"), \"rb\") as f:\n",
    "        payload = pickle.load(f)\n",
    "    tok = Tokenizer.from_json(payload[\"config\"])\n",
    "    tok.num_words = payload[\"num_words\"]\n",
    "    with open(os.path.join(save_dir, \"meta.json\"), \"r\") as f:\n",
    "        meta = json.load(f)\n",
    "    return model, tok, meta"
   ]
  },
  {
   "cell_type": "markdown",
   "id": "ca5b9ae9",
   "metadata": {},
   "source": [
    "# Train"
   ]
  },
  {
   "cell_type": "code",
   "execution_count": 9,
   "id": "76a0ce3b",
   "metadata": {},
   "outputs": [
    {
     "name": "stdout",
     "output_type": "stream",
     "text": [
      "Vocab size: 4995, Max sequence length: 76\n"
     ]
    },
    {
     "name": "stderr",
     "output_type": "stream",
     "text": [
      "C:\\Users\\lilyc\\AppData\\Local\\Packages\\PythonSoftwareFoundation.Python.3.13_qbz5n2kfra8p0\\LocalCache\\local-packages\\Python313\\site-packages\\keras\\src\\layers\\core\\embedding.py:97: UserWarning: Argument `input_length` is deprecated. Just remove it.\n",
      "  warnings.warn(\n"
     ]
    }
   ],
   "source": [
    "# tokenize & dataset\n",
    "tokenizer = build_tokenizer(CORPUS, oov_token=\"<OOV>\", lower=True, num_words=None)\n",
    "X, y, max_len, vocab_size = make_ngram_dataset(tokenizer, CORPUS, min_len=2)\n",
    "\n",
    "print(f\"Vocab size: {vocab_size}, Max sequence length: {max_len}\")\n",
    "\n",
    "model = build_model(vocab_size=vocab_size, seq_len_minus1=max_len-1,\n",
    "                    embed_dim=128, rnn_units=256, dropout=0.3)"
   ]
  },
  {
   "cell_type": "code",
   "execution_count": 10,
   "id": "ce6bf555",
   "metadata": {},
   "outputs": [
    {
     "name": "stdout",
     "output_type": "stream",
     "text": [
      "Epoch 1/30\n",
      "\u001b[1m635/635\u001b[0m \u001b[32m━━━━━━━━━━━━━━━━━━━━\u001b[0m\u001b[37m\u001b[0m \u001b[1m212s\u001b[0m 327ms/step - accuracy: 0.0418 - loss: 7.1213 - val_accuracy: 0.0692 - val_loss: 7.1577\n",
      "Epoch 2/30\n",
      "\u001b[1m635/635\u001b[0m \u001b[32m━━━━━━━━━━━━━━━━━━━━\u001b[0m\u001b[37m\u001b[0m \u001b[1m158s\u001b[0m 248ms/step - accuracy: 0.0460 - loss: 6.6985 - val_accuracy: 0.0706 - val_loss: 7.2554\n",
      "Epoch 3/30\n",
      "\u001b[1m635/635\u001b[0m \u001b[32m━━━━━━━━━━━━━━━━━━━━\u001b[0m\u001b[37m\u001b[0m \u001b[1m168s\u001b[0m 264ms/step - accuracy: 0.0592 - loss: 6.4640 - val_accuracy: 0.0863 - val_loss: 7.3955\n",
      "Epoch 4/30\n",
      "\u001b[1m635/635\u001b[0m \u001b[32m━━━━━━━━━━━━━━━━━━━━\u001b[0m\u001b[37m\u001b[0m \u001b[1m154s\u001b[0m 243ms/step - accuracy: 0.0692 - loss: 6.2286 - val_accuracy: 0.0980 - val_loss: 7.4613\n",
      "Epoch 5/30\n",
      "\u001b[1m635/635\u001b[0m \u001b[32m━━━━━━━━━━━━━━━━━━━━\u001b[0m\u001b[37m\u001b[0m \u001b[1m157s\u001b[0m 247ms/step - accuracy: 0.0777 - loss: 6.0381 - val_accuracy: 0.0999 - val_loss: 7.6631\n",
      "Epoch 6/30\n",
      "\u001b[1m635/635\u001b[0m \u001b[32m━━━━━━━━━━━━━━━━━━━━\u001b[0m\u001b[37m\u001b[0m \u001b[1m182s\u001b[0m 287ms/step - accuracy: 0.0827 - loss: 5.8817 - val_accuracy: 0.1060 - val_loss: 7.7715\n",
      "Epoch 7/30\n",
      "\u001b[1m635/635\u001b[0m \u001b[32m━━━━━━━━━━━━━━━━━━━━\u001b[0m\u001b[37m\u001b[0m \u001b[1m164s\u001b[0m 258ms/step - accuracy: 0.0902 - loss: 5.7248 - val_accuracy: 0.1054 - val_loss: 7.9025\n",
      "Epoch 8/30\n",
      "\u001b[1m635/635\u001b[0m \u001b[32m━━━━━━━━━━━━━━━━━━━━\u001b[0m\u001b[37m\u001b[0m \u001b[1m154s\u001b[0m 242ms/step - accuracy: 0.0960 - loss: 5.5663 - val_accuracy: 0.1096 - val_loss: 8.2266\n",
      "Epoch 9/30\n",
      "\u001b[1m635/635\u001b[0m \u001b[32m━━━━━━━━━━━━━━━━━━━━\u001b[0m\u001b[37m\u001b[0m \u001b[1m158s\u001b[0m 249ms/step - accuracy: 0.1007 - loss: 5.4115 - val_accuracy: 0.1112 - val_loss: 8.4288\n",
      "Epoch 10/30\n",
      "\u001b[1m635/635\u001b[0m \u001b[32m━━━━━━━━━━━━━━━━━━━━\u001b[0m\u001b[37m\u001b[0m \u001b[1m161s\u001b[0m 253ms/step - accuracy: 0.1062 - loss: 5.2657 - val_accuracy: 0.1092 - val_loss: 8.6262\n",
      "Epoch 11/30\n",
      "\u001b[1m635/635\u001b[0m \u001b[32m━━━━━━━━━━━━━━━━━━━━\u001b[0m\u001b[37m\u001b[0m \u001b[1m159s\u001b[0m 251ms/step - accuracy: 0.1133 - loss: 5.1169 - val_accuracy: 0.1045 - val_loss: 8.9609\n",
      "Epoch 12/30\n",
      "\u001b[1m635/635\u001b[0m \u001b[32m━━━━━━━━━━━━━━━━━━━━\u001b[0m\u001b[37m\u001b[0m \u001b[1m152s\u001b[0m 239ms/step - accuracy: 0.1209 - loss: 4.9696 - val_accuracy: 0.1098 - val_loss: 9.1361\n",
      "Epoch 13/30\n",
      "\u001b[1m635/635\u001b[0m \u001b[32m━━━━━━━━━━━━━━━━━━━━\u001b[0m\u001b[37m\u001b[0m \u001b[1m199s\u001b[0m 234ms/step - accuracy: 0.1284 - loss: 4.8179 - val_accuracy: 0.1076 - val_loss: 9.7192\n",
      "Epoch 14/30\n",
      "\u001b[1m635/635\u001b[0m \u001b[32m━━━━━━━━━━━━━━━━━━━━\u001b[0m\u001b[37m\u001b[0m \u001b[1m154s\u001b[0m 242ms/step - accuracy: 0.1375 - loss: 4.6774 - val_accuracy: 0.0964 - val_loss: 9.8524\n",
      "Epoch 15/30\n",
      "\u001b[1m635/635\u001b[0m \u001b[32m━━━━━━━━━━━━━━━━━━━━\u001b[0m\u001b[37m\u001b[0m \u001b[1m197s\u001b[0m 234ms/step - accuracy: 0.1453 - loss: 4.5286 - val_accuracy: 0.0905 - val_loss: 10.2172\n",
      "Epoch 16/30\n",
      "\u001b[1m635/635\u001b[0m \u001b[32m━━━━━━━━━━━━━━━━━━━━\u001b[0m\u001b[37m\u001b[0m \u001b[1m151s\u001b[0m 237ms/step - accuracy: 0.1535 - loss: 4.3818 - val_accuracy: 0.0859 - val_loss: 10.4627\n",
      "Epoch 17/30\n",
      "\u001b[1m635/635\u001b[0m \u001b[32m━━━━━━━━━━━━━━━━━━━━\u001b[0m\u001b[37m\u001b[0m \u001b[1m160s\u001b[0m 252ms/step - accuracy: 0.1657 - loss: 4.2359 - val_accuracy: 0.0830 - val_loss: 11.1374\n",
      "Epoch 18/30\n",
      "\u001b[1m635/635\u001b[0m \u001b[32m━━━━━━━━━━━━━━━━━━━━\u001b[0m\u001b[37m\u001b[0m \u001b[1m186s\u001b[0m 226ms/step - accuracy: 0.1748 - loss: 4.0945 - val_accuracy: 0.0808 - val_loss: 11.5366\n",
      "Epoch 19/30\n",
      "\u001b[1m635/635\u001b[0m \u001b[32m━━━━━━━━━━━━━━━━━━━━\u001b[0m\u001b[37m\u001b[0m \u001b[1m150s\u001b[0m 236ms/step - accuracy: 0.1880 - loss: 3.9481 - val_accuracy: 0.0777 - val_loss: 12.0335\n",
      "Epoch 20/30\n",
      "\u001b[1m635/635\u001b[0m \u001b[32m━━━━━━━━━━━━━━━━━━━━\u001b[0m\u001b[37m\u001b[0m \u001b[1m151s\u001b[0m 237ms/step - accuracy: 0.2005 - loss: 3.8015 - val_accuracy: 0.0773 - val_loss: 12.5903\n",
      "Epoch 21/30\n",
      "\u001b[1m635/635\u001b[0m \u001b[32m━━━━━━━━━━━━━━━━━━━━\u001b[0m\u001b[37m\u001b[0m \u001b[1m150s\u001b[0m 236ms/step - accuracy: 0.2170 - loss: 3.6593 - val_accuracy: 0.0725 - val_loss: 12.8728\n",
      "Epoch 22/30\n",
      "\u001b[1m635/635\u001b[0m \u001b[32m━━━━━━━━━━━━━━━━━━━━\u001b[0m\u001b[37m\u001b[0m \u001b[1m148s\u001b[0m 234ms/step - accuracy: 0.2331 - loss: 3.5256 - val_accuracy: 0.0682 - val_loss: 13.4645\n",
      "Epoch 23/30\n",
      "\u001b[1m635/635\u001b[0m \u001b[32m━━━━━━━━━━━━━━━━━━━━\u001b[0m\u001b[37m\u001b[0m \u001b[1m147s\u001b[0m 231ms/step - accuracy: 0.2549 - loss: 3.4021 - val_accuracy: 0.0694 - val_loss: 14.1467\n",
      "Epoch 24/30\n",
      "\u001b[1m635/635\u001b[0m \u001b[32m━━━━━━━━━━━━━━━━━━━━\u001b[0m\u001b[37m\u001b[0m \u001b[1m149s\u001b[0m 235ms/step - accuracy: 0.2744 - loss: 3.2814 - val_accuracy: 0.0709 - val_loss: 14.4602\n",
      "Epoch 25/30\n",
      "\u001b[1m635/635\u001b[0m \u001b[32m━━━━━━━━━━━━━━━━━━━━\u001b[0m\u001b[37m\u001b[0m \u001b[1m151s\u001b[0m 238ms/step - accuracy: 0.2945 - loss: 3.1672 - val_accuracy: 0.0660 - val_loss: 14.8692\n",
      "Epoch 26/30\n",
      "\u001b[1m635/635\u001b[0m \u001b[32m━━━━━━━━━━━━━━━━━━━━\u001b[0m\u001b[37m\u001b[0m \u001b[1m147s\u001b[0m 231ms/step - accuracy: 0.3084 - loss: 3.0625 - val_accuracy: 0.0650 - val_loss: 15.2205\n",
      "Epoch 27/30\n",
      "\u001b[1m635/635\u001b[0m \u001b[32m━━━━━━━━━━━━━━━━━━━━\u001b[0m\u001b[37m\u001b[0m \u001b[1m150s\u001b[0m 237ms/step - accuracy: 0.3300 - loss: 2.9591 - val_accuracy: 0.0672 - val_loss: 15.5927\n",
      "Epoch 28/30\n",
      "\u001b[1m635/635\u001b[0m \u001b[32m━━━━━━━━━━━━━━━━━━━━\u001b[0m\u001b[37m\u001b[0m \u001b[1m153s\u001b[0m 242ms/step - accuracy: 0.3418 - loss: 2.8635 - val_accuracy: 0.0668 - val_loss: 16.0404\n",
      "Epoch 29/30\n",
      "\u001b[1m635/635\u001b[0m \u001b[32m━━━━━━━━━━━━━━━━━━━━\u001b[0m\u001b[37m\u001b[0m \u001b[1m151s\u001b[0m 238ms/step - accuracy: 0.3578 - loss: 2.7772 - val_accuracy: 0.0658 - val_loss: 16.4143\n",
      "Epoch 30/30\n",
      "\u001b[1m635/635\u001b[0m \u001b[32m━━━━━━━━━━━━━━━━━━━━\u001b[0m\u001b[37m\u001b[0m \u001b[1m151s\u001b[0m 238ms/step - accuracy: 0.3747 - loss: 2.6876 - val_accuracy: 0.0668 - val_loss: 16.6966\n"
     ]
    }
   ],
   "source": [
    "history = model.fit(\n",
    "    X, y,\n",
    "    epochs=30,\n",
    "    batch_size=32,\n",
    "    validation_split=0.2,\n",
    "    verbose=1,\n",
    "    # callbacks=[\n",
    "    #     tf.keras.callbacks.ReduceLROnPlateau(patience=3, factor=0.5, verbose=1),\n",
    "    #     tf.keras.callbacks.EarlyStopping(patience=5, restore_best_weights=True, monitor=\"val_loss\")\n",
    "    # ]\n",
    ")"
   ]
  },
  {
   "cell_type": "code",
   "execution_count": 32,
   "id": "9ffe205e",
   "metadata": {},
   "outputs": [
    {
     "name": "stdout",
     "output_type": "stream",
     "text": [
      "\n",
      "Top suggestions for next word:\n",
      "      father  0.1171\n",
      "        real  0.1089\n",
      "  restaurant  0.0945\n",
      "         job  0.0824\n",
      "      little  0.0697\n",
      "\n",
      "Generated: I am a thought i'd had him some coffee\n",
      "Saved model + tokenizer to: predictive_text_artifacts\n"
     ]
    }
   ],
   "source": [
    "# quick suggestions\n",
    "seed = \"I am a\"\n",
    "print(\"\\nTop suggestions for next word:\")\n",
    "for word, p in suggest_next_words(model, tokenizer, seed, seq_len_minus1=max_len-1, top_k=5, temperature=0.8):\n",
    "    print(f\"{word:>12s}  {p:.4f}\")\n",
    "\n",
    "# autocomplete demo\n",
    "generated = generate_text(model, tokenizer, seed, seq_len_minus1=max_len-1, num_words=6, temperature=0.9)\n",
    "print(\"\\nGenerated:\", generated)\n",
    "\n",
    "# save\n",
    "save_artifacts(model, tokenizer)"
   ]
  }
 ],
 "metadata": {
  "kernelspec": {
   "display_name": "Python 3",
   "language": "python",
   "name": "python3"
  },
  "language_info": {
   "codemirror_mode": {
    "name": "ipython",
    "version": 3
   },
   "file_extension": ".py",
   "mimetype": "text/x-python",
   "name": "python",
   "nbconvert_exporter": "python",
   "pygments_lexer": "ipython3",
   "version": "3.13.7"
  }
 },
 "nbformat": 4,
 "nbformat_minor": 5
}
