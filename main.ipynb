{
 "cells": [
  {
   "cell_type": "code",
   "execution_count": 2,
   "id": "44afe051",
   "metadata": {},
   "outputs": [],
   "source": [
    "import os\n",
    "import json\n",
    "import pickle\n",
    "import numpy as np\n",
    "import tensorflow as tf\n",
    "from tensorflow.keras.preprocessing.text import Tokenizer\n",
    "from tensorflow.keras.preprocessing.sequence import pad_sequences\n",
    "from tensorflow.keras import layers, models\n",
    "import nltk"
   ]
  },
  {
   "cell_type": "markdown",
   "id": "c7b56db6",
   "metadata": {},
   "source": [
    "# Prepare Corpus"
   ]
  },
  {
   "cell_type": "code",
   "execution_count": 4,
   "id": "ae6da1d4",
   "metadata": {},
   "outputs": [
    {
     "name": "stderr",
     "output_type": "stream",
     "text": [
      "[nltk_data] Downloading package punkt_tab to\n",
      "[nltk_data]     C:\\Users\\lilyc\\AppData\\Roaming\\nltk_data...\n",
      "[nltk_data]   Package punkt_tab is already up-to-date!\n"
     ]
    }
   ],
   "source": [
    "text = open(\"large_text.txt\").read()\n",
    "\n",
    "nltk.download('punkt_tab')\n",
    "CORPUS = nltk.sent_tokenize(text)"
   ]
  },
  {
   "cell_type": "code",
   "execution_count": 5,
   "id": "45a67b62",
   "metadata": {},
   "outputs": [],
   "source": [
    "def build_tokenizer(texts, oov_token=\"<OOV>\", lower=True, num_words=None):\n",
    "    tok = Tokenizer(oov_token=oov_token, lower=lower, num_words=num_words)\n",
    "    tok.fit_on_texts(texts)\n",
    "    return tok\n",
    "\n",
    "def make_ngram_dataset(tokenizer, texts, min_len=2):\n",
    "    \"\"\"\n",
    "    Builds n-gram sequences for next-word prediction.\n",
    "    Each sequence[i] is tokens[0:i] -> predict tokens[i]\n",
    "    \"\"\"\n",
    "    sequences = []\n",
    "    for line in texts:\n",
    "        tokens = tokenizer.texts_to_sequences([line])[0]\n",
    "        # create incremental n-grams: [w1,w2]->w3, [w1,w2,w3]->w4, ...\n",
    "        for i in range(min_len, len(tokens) + 1):\n",
    "            sequences.append(tokens[:i])\n",
    "    if not sequences:\n",
    "        raise ValueError(\"No sequences constructed; check your corpus/tokenizer.\")\n",
    "\n",
    "    max_len = max(len(s) for s in sequences)\n",
    "    sequences = pad_sequences(sequences, maxlen=max_len, padding=\"pre\")\n",
    "    X, y = sequences[:, :-1], sequences[:, -1]\n",
    "    vocab_size = min(tokenizer.num_words or len(tokenizer.word_index) + 1,\n",
    "                     len(tokenizer.word_index) + 1)\n",
    "    return X, y, max_len, vocab_size"
   ]
  },
  {
   "cell_type": "markdown",
   "id": "eb350d26",
   "metadata": {},
   "source": [
    "# Build Model"
   ]
  },
  {
   "cell_type": "code",
   "execution_count": null,
   "id": "65ebfd5f",
   "metadata": {},
   "outputs": [],
   "source": [
    "def build_model(vocab_size, seq_len_minus1, embed_dim=128, rnn_units=256, dropout=0.2):\n",
    "    model = models.Sequential([\n",
    "        layers.Embedding(input_dim=vocab_size, output_dim=embed_dim, input_length=seq_len_minus1),\n",
    "        layers.Bidirectional(layers.LSTM(rnn_units, return_sequences=False)),\n",
    "        layers.Dropout(dropout),\n",
    "        layers.Dense(rnn_units, activation=\"relu\"),\n",
    "        layers.Dense(vocab_size, activation=\"softmax\")\n",
    "    ])\n",
    "    model.compile(\n",
    "        loss=\"sparse_categorical_crossentropy\",\n",
    "        optimizer=tf.keras.optimizers.Adam(learning_rate=3e-4),\n",
    "        metrics=[\"accuracy\"]\n",
    "    )\n",
    "    return model"
   ]
  },
  {
   "cell_type": "markdown",
   "id": "bfe17041",
   "metadata": {},
   "source": [
    "# Inference Helpers"
   ]
  },
  {
   "cell_type": "code",
   "execution_count": null,
   "id": "b5ef95f2",
   "metadata": {},
   "outputs": [],
   "source": [
    "def _apply_temperature(logits, temperature=1.0):\n",
    "    logits = np.asarray(logits, dtype=np.float64)\n",
    "    if temperature <= 0:\n",
    "        # zero (greedy) or negative => fallback to greedy\n",
    "        one_hot = np.zeros_like(logits)\n",
    "        one_hot[np.argmax(logits)] = 1.0\n",
    "        return one_hot\n",
    "    logits = np.log(np.maximum(logits, 1e-9)) / float(temperature)\n",
    "    exp = np.exp(logits - np.max(logits))\n",
    "    return exp / np.sum(exp)\n",
    "\n",
    "def suggest_next_words(model, tokenizer, seed_text, seq_len_minus1, top_k=5, temperature=1.0):\n",
    "    \"\"\"\n",
    "    Returns top_k candidate next words (no sampling), optionally temperature-adjusted.\n",
    "    \"\"\"\n",
    "    seq = tokenizer.texts_to_sequences([seed_text])[0]\n",
    "    seq = pad_sequences([seq], maxlen=seq_len_minus1, padding=\"pre\")\n",
    "    preds = model.predict(seq, verbose=0)[0]\n",
    "    probs = _apply_temperature(preds, temperature=temperature)\n",
    "\n",
    "    top_idx = probs.argsort()[-top_k:][::-1]\n",
    "    idx2word = {idx: w for w, idx in tokenizer.word_index.items() if idx < (tokenizer.num_words or 10**9)}\n",
    "    return [(idx2word.get(i, \"<UNK>\"), float(probs[i])) for i in top_idx]\n",
    "\n",
    "def generate_text(model, tokenizer, seed_text, seq_len_minus1, num_words=10, temperature=1.0, greedy=False):\n",
    "    \"\"\"\n",
    "    Autoregressively generates words. If greedy=True, always pick argmax.\n",
    "    Otherwise sample by temperature.\n",
    "    \"\"\"\n",
    "    out = seed_text.strip()\n",
    "    vocab_limit = tokenizer.num_words or (len(tokenizer.word_index) + 1)\n",
    "    idx2word = {idx: w for w, idx in tokenizer.word_index.items() if idx < vocab_limit}\n",
    "\n",
    "    for _ in range(num_words):\n",
    "        seq = tokenizer.texts_to_sequences([out])[0]\n",
    "        seq = pad_sequences([seq], maxlen=seq_len_minus1, padding=\"pre\")\n",
    "        preds = model.predict(seq, verbose=0)[0]\n",
    "        if greedy or temperature <= 0:\n",
    "            next_id = int(np.argmax(preds))\n",
    "        else:\n",
    "            probs = _apply_temperature(preds, temperature=temperature)\n",
    "            next_id = int(np.random.choice(len(probs), p=probs))\n",
    "        next_word = idx2word.get(next_id, None)\n",
    "        if not next_word:\n",
    "            break\n",
    "        out += \" \" + next_word\n",
    "    return out"
   ]
  }
 ],
 "metadata": {
  "kernelspec": {
   "display_name": "Python 3",
   "language": "python",
   "name": "python3"
  },
  "language_info": {
   "codemirror_mode": {
    "name": "ipython",
    "version": 3
   },
   "file_extension": ".py",
   "mimetype": "text/x-python",
   "name": "python",
   "nbconvert_exporter": "python",
   "pygments_lexer": "ipython3",
   "version": "3.13.7"
  }
 },
 "nbformat": 4,
 "nbformat_minor": 5
}
