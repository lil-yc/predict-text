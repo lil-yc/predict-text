{
 "cells": [
  {
   "cell_type": "code",
   "execution_count": 2,
   "id": "44afe051",
   "metadata": {},
   "outputs": [],
   "source": [
    "import os\n",
    "import json\n",
    "import pickle\n",
    "import numpy as np\n",
    "import tensorflow as tf\n",
    "from tensorflow.keras.preprocessing.text import Tokenizer\n",
    "from tensorflow.keras.preprocessing.sequence import pad_sequences\n",
    "from tensorflow.keras import layers, models\n",
    "import nltk"
   ]
  },
  {
   "cell_type": "markdown",
   "id": "c7b56db6",
   "metadata": {},
   "source": [
    "# Prepare Corpus"
   ]
  },
  {
   "cell_type": "code",
   "execution_count": 4,
   "id": "ae6da1d4",
   "metadata": {},
   "outputs": [
    {
     "name": "stderr",
     "output_type": "stream",
     "text": [
      "[nltk_data] Downloading package punkt_tab to\n",
      "[nltk_data]     C:\\Users\\lilyc\\AppData\\Roaming\\nltk_data...\n",
      "[nltk_data]   Package punkt_tab is already up-to-date!\n"
     ]
    }
   ],
   "source": [
    "text = open(\"large_text.txt\").read()\n",
    "\n",
    "nltk.download('punkt_tab')\n",
    "CORPUS = nltk.sent_tokenize(text)"
   ]
  },
  {
   "cell_type": "code",
   "execution_count": null,
   "id": "45a67b62",
   "metadata": {},
   "outputs": [],
   "source": [
    "def build_tokenizer(texts, oov_token=\"<OOV>\", lower=True, num_words=None):\n",
    "    tok = Tokenizer(oov_token=oov_token, lower=lower, num_words=num_words)\n",
    "    tok.fit_on_texts(texts)\n",
    "    return tok\n",
    "\n",
    "def make_ngram_dataset(tokenizer, texts, min_len=2):\n",
    "    \"\"\"\n",
    "    Builds n-gram sequences for next-word prediction.\n",
    "    Each sequence[i] is tokens[0:i] -> predict tokens[i]\n",
    "    \"\"\"\n",
    "    sequences = []\n",
    "    for line in texts:\n",
    "        tokens = tokenizer.texts_to_sequences([line])[0]\n",
    "        # create incremental n-grams: [w1,w2]->w3, [w1,w2,w3]->w4, ...\n",
    "        for i in range(min_len, len(tokens) + 1):\n",
    "            sequences.append(tokens[:i])\n",
    "    if not sequences:\n",
    "        raise ValueError(\"No sequences constructed; check your corpus/tokenizer.\")\n",
    "\n",
    "    max_len = max(len(s) for s in sequences)\n",
    "    sequences = pad_sequences(sequences, maxlen=max_len, padding=\"pre\")\n",
    "    X, y = sequences[:, :-1], sequences[:, -1]\n",
    "    vocab_size = min(tokenizer.num_words or len(tokenizer.word_index) + 1,\n",
    "                     len(tokenizer.word_index) + 1)\n",
    "    return X, y, max_len, vocab_size"
   ]
  }
 ],
 "metadata": {
  "kernelspec": {
   "display_name": "Python 3",
   "language": "python",
   "name": "python3"
  },
  "language_info": {
   "codemirror_mode": {
    "name": "ipython",
    "version": 3
   },
   "file_extension": ".py",
   "mimetype": "text/x-python",
   "name": "python",
   "nbconvert_exporter": "python",
   "pygments_lexer": "ipython3",
   "version": "3.13.7"
  }
 },
 "nbformat": 4,
 "nbformat_minor": 5
}
