{
 "cells": [
  {
   "cell_type": "code",
   "execution_count": 33,
   "id": "44afe051",
   "metadata": {},
   "outputs": [],
   "source": [
    "import os\n",
    "import json\n",
    "import pickle\n",
    "import numpy as np\n",
    "import tensorflow as tf\n",
    "from tensorflow.keras.preprocessing.text import Tokenizer\n",
    "from tensorflow.keras.preprocessing.sequence import pad_sequences\n",
    "from tensorflow.keras import layers, models\n",
    "import nltk"
   ]
  },
  {
   "cell_type": "markdown",
   "id": "c7b56db6",
   "metadata": {},
   "source": [
    "# Prepare Corpus"
   ]
  },
  {
   "cell_type": "code",
   "execution_count": 34,
   "id": "ae6da1d4",
   "metadata": {},
   "outputs": [
    {
     "name": "stderr",
     "output_type": "stream",
     "text": [
      "[nltk_data] Downloading package punkt_tab to\n",
      "[nltk_data]     C:\\Users\\lilyc\\AppData\\Roaming\\nltk_data...\n",
      "[nltk_data]   Package punkt_tab is already up-to-date!\n"
     ]
    }
   ],
   "source": [
    "text = open(\"large_text.txt\").read()\n",
    "\n",
    "nltk.download('punkt_tab')\n",
    "CORPUS = nltk.sent_tokenize(text)"
   ]
  },
  {
   "cell_type": "code",
   "execution_count": 35,
   "id": "45a67b62",
   "metadata": {},
   "outputs": [],
   "source": [
    "def build_tokenizer(texts, oov_token=\"<OOV>\", lower=True, num_words=None):\n",
    "    tok = Tokenizer(oov_token=oov_token, lower=lower, num_words=num_words)\n",
    "    tok.fit_on_texts(texts)\n",
    "    return tok\n",
    "\n",
    "def make_ngram_dataset(tokenizer, texts, min_len=2):\n",
    "    \"\"\"\n",
    "    Builds n-gram sequences for next-word prediction.\n",
    "    Each sequence[i] is tokens[0:i] -> predict tokens[i]\n",
    "    \"\"\"\n",
    "    sequences = []\n",
    "    for line in texts:\n",
    "        tokens = tokenizer.texts_to_sequences([line])[0]\n",
    "        # create incremental n-grams: [w1,w2]->w3, [w1,w2,w3]->w4, ...\n",
    "        for i in range(min_len, len(tokens) + 1):\n",
    "            sequences.append(tokens[:i])\n",
    "    if not sequences:\n",
    "        raise ValueError(\"No sequences constructed; check your corpus/tokenizer.\")\n",
    "\n",
    "    max_len = max(len(s) for s in sequences)\n",
    "    sequences = pad_sequences(sequences, maxlen=max_len, padding=\"pre\")\n",
    "    X, y = sequences[:, :-1], sequences[:, -1]\n",
    "    vocab_size = min(tokenizer.num_words or len(tokenizer.word_index) + 1,\n",
    "                     len(tokenizer.word_index) + 1)\n",
    "    return X, y, max_len, vocab_size"
   ]
  },
  {
   "cell_type": "markdown",
   "id": "eb350d26",
   "metadata": {},
   "source": [
    "# Build Model"
   ]
  },
  {
   "cell_type": "code",
   "execution_count": 36,
   "id": "65ebfd5f",
   "metadata": {},
   "outputs": [],
   "source": [
    "def build_model(vocab_size, seq_len_minus1, embed_dim=128, rnn_units=256, dropout=0.2):\n",
    "    model = models.Sequential([\n",
    "        layers.Embedding(input_dim=vocab_size, output_dim=embed_dim, input_length=seq_len_minus1),\n",
    "        layers.Bidirectional(layers.LSTM(rnn_units, return_sequences=False)),\n",
    "        layers.Dropout(dropout),\n",
    "        layers.Dense(rnn_units, activation=\"relu\"),\n",
    "        layers.Dense(vocab_size, activation=\"softmax\")\n",
    "    ])\n",
    "    model.compile(\n",
    "        loss=\"sparse_categorical_crossentropy\",\n",
    "        optimizer=tf.keras.optimizers.Adam(learning_rate=1e-3),\n",
    "        metrics=[\"accuracy\"]\n",
    "    )\n",
    "    return model"
   ]
  },
  {
   "cell_type": "markdown",
   "id": "bfe17041",
   "metadata": {},
   "source": [
    "# Inference Helpers"
   ]
  },
  {
   "cell_type": "code",
   "execution_count": 37,
   "id": "b5ef95f2",
   "metadata": {},
   "outputs": [],
   "source": [
    "def _apply_temperature(logits, temperature=1.0):\n",
    "    logits = np.asarray(logits, dtype=np.float64)\n",
    "    if temperature <= 0:\n",
    "        # zero (greedy) or negative => fallback to greedy\n",
    "        one_hot = np.zeros_like(logits)\n",
    "        one_hot[np.argmax(logits)] = 1.0\n",
    "        return one_hot\n",
    "    logits = np.log(np.maximum(logits, 1e-9)) / float(temperature)\n",
    "    exp = np.exp(logits - np.max(logits))\n",
    "    return exp / np.sum(exp)\n",
    "\n",
    "def suggest_next_words(model, tokenizer, seed_text, seq_len_minus1, top_k=5, temperature=1.0):\n",
    "    \"\"\"\n",
    "    Returns top_k candidate next words (no sampling), optionally temperature-adjusted.\n",
    "    \"\"\"\n",
    "    seq = tokenizer.texts_to_sequences([seed_text])[0]\n",
    "    seq = pad_sequences([seq], maxlen=seq_len_minus1, padding=\"pre\")\n",
    "    preds = model.predict(seq, verbose=0)[0]\n",
    "    probs = _apply_temperature(preds, temperature=temperature)\n",
    "\n",
    "    top_idx = probs.argsort()[-top_k:][::-1]\n",
    "    idx2word = {idx: w for w, idx in tokenizer.word_index.items() if idx < (tokenizer.num_words or 10**9)}\n",
    "    return [(idx2word.get(i, \"<UNK>\"), float(probs[i])) for i in top_idx]\n",
    "\n",
    "def generate_text(model, tokenizer, seed_text, seq_len_minus1, num_words=10, temperature=1.0, greedy=False):\n",
    "    \"\"\"\n",
    "    Autoregressively generates words. If greedy=True, always pick argmax.\n",
    "    Otherwise sample by temperature.\n",
    "    \"\"\"\n",
    "    out = seed_text.strip()\n",
    "    vocab_limit = tokenizer.num_words or (len(tokenizer.word_index) + 1)\n",
    "    idx2word = {idx: w for w, idx in tokenizer.word_index.items() if idx < vocab_limit}\n",
    "\n",
    "    for _ in range(num_words):\n",
    "        seq = tokenizer.texts_to_sequences([out])[0]\n",
    "        seq = pad_sequences([seq], maxlen=seq_len_minus1, padding=\"pre\")\n",
    "        preds = model.predict(seq, verbose=0)[0]\n",
    "        if greedy or temperature <= 0:\n",
    "            next_id = int(np.argmax(preds))\n",
    "        else:\n",
    "            probs = _apply_temperature(preds, temperature=temperature)\n",
    "            next_id = int(np.random.choice(len(probs), p=probs))\n",
    "        next_word = idx2word.get(next_id, None)\n",
    "        if not next_word:\n",
    "            break\n",
    "        out += \" \" + next_word\n",
    "    return out"
   ]
  },
  {
   "cell_type": "markdown",
   "id": "bcdb22f7",
   "metadata": {},
   "source": [
    "# Save/Load"
   ]
  },
  {
   "cell_type": "code",
   "execution_count": 38,
   "id": "7410aeeb",
   "metadata": {},
   "outputs": [],
   "source": [
    "def save_artifacts(model, tokenizer, save_dir=\"predictive_text_artifacts\"):\n",
    "    os.makedirs(save_dir, exist_ok=True)\n",
    "    model.save(os.path.join(save_dir, \"model.keras\"))  # Keras v3 format\n",
    "    tok_path = os.path.join(save_dir, \"tokenizer.pkl\")\n",
    "    with open(tok_path, \"wb\") as f:\n",
    "        pickle.dump({\n",
    "            \"config\": tokenizer.to_json(),\n",
    "            \"num_words\": tokenizer.num_words\n",
    "        }, f)\n",
    "    meta = {\n",
    "        \"vocab_size\": len(tokenizer.word_index) + 1,\n",
    "        \"num_words_limit\": tokenizer.num_words,\n",
    "    }\n",
    "    with open(os.path.join(save_dir, \"meta.json\"), \"w\") as f:\n",
    "        json.dump(meta, f, indent=2)\n",
    "    print(f\"Saved model + tokenizer to: {save_dir}\")\n",
    "\n",
    "def load_artifacts(save_dir=\"predictive_text_artifacts\"):\n",
    "    model = tf.keras.models.load_model(os.path.join(save_dir, \"model.keras\"))\n",
    "    with open(os.path.join(save_dir, \"tokenizer.pkl\"), \"rb\") as f:\n",
    "        payload = pickle.load(f)\n",
    "    tok = Tokenizer.from_json(payload[\"config\"])\n",
    "    tok.num_words = payload[\"num_words\"]\n",
    "    with open(os.path.join(save_dir, \"meta.json\"), \"r\") as f:\n",
    "        meta = json.load(f)\n",
    "    return model, tok, meta"
   ]
  },
  {
   "cell_type": "markdown",
   "id": "ca5b9ae9",
   "metadata": {},
   "source": [
    "# Train"
   ]
  },
  {
   "cell_type": "code",
   "execution_count": 39,
   "id": "76a0ce3b",
   "metadata": {},
   "outputs": [
    {
     "name": "stdout",
     "output_type": "stream",
     "text": [
      "Vocab size: 4995, Max sequence length: 76\n"
     ]
    },
    {
     "name": "stderr",
     "output_type": "stream",
     "text": [
      "C:\\Users\\lilyc\\AppData\\Local\\Packages\\PythonSoftwareFoundation.Python.3.13_qbz5n2kfra8p0\\LocalCache\\local-packages\\Python313\\site-packages\\keras\\src\\layers\\core\\embedding.py:97: UserWarning: Argument `input_length` is deprecated. Just remove it.\n",
      "  warnings.warn(\n"
     ]
    }
   ],
   "source": [
    "# tokenize & dataset\n",
    "tokenizer = build_tokenizer(CORPUS, oov_token=\"<OOV>\", lower=True, num_words=None)\n",
    "X, y, max_len, vocab_size = make_ngram_dataset(tokenizer, CORPUS, min_len=2)\n",
    "\n",
    "print(f\"Vocab size: {vocab_size}, Max sequence length: {max_len}\")\n",
    "\n",
    "model = build_model(vocab_size=vocab_size, seq_len_minus1=max_len-1,\n",
    "                    embed_dim=128, rnn_units=256, dropout=0.3)"
   ]
  },
  {
   "cell_type": "code",
   "execution_count": 40,
   "id": "ce6bf555",
   "metadata": {},
   "outputs": [
    {
     "name": "stdout",
     "output_type": "stream",
     "text": [
      "Epoch 1/50\n",
      "\u001b[1m635/635\u001b[0m \u001b[32m━━━━━━━━━━━━━━━━━━━━\u001b[0m\u001b[37m\u001b[0m \u001b[1m217s\u001b[0m 329ms/step - accuracy: 0.0436 - loss: 7.0470 - val_accuracy: 0.0682 - val_loss: 7.1212\n",
      "Epoch 2/50\n",
      "\u001b[1m635/635\u001b[0m \u001b[32m━━━━━━━━━━━━━━━━━━━━\u001b[0m\u001b[37m\u001b[0m \u001b[1m157s\u001b[0m 248ms/step - accuracy: 0.0626 - loss: 6.5251 - val_accuracy: 0.0999 - val_loss: 7.1058\n",
      "Epoch 3/50\n",
      "\u001b[1m635/635\u001b[0m \u001b[32m━━━━━━━━━━━━━━━━━━━━\u001b[0m\u001b[37m\u001b[0m \u001b[1m160s\u001b[0m 252ms/step - accuracy: 0.0761 - loss: 6.1631 - val_accuracy: 0.0997 - val_loss: 7.3220\n",
      "Epoch 4/50\n",
      "\u001b[1m635/635\u001b[0m \u001b[32m━━━━━━━━━━━━━━━━━━━━\u001b[0m\u001b[37m\u001b[0m \u001b[1m161s\u001b[0m 254ms/step - accuracy: 0.0897 - loss: 5.8893 - val_accuracy: 0.1064 - val_loss: 7.5467\n",
      "Epoch 5/50\n",
      "\u001b[1m635/635\u001b[0m \u001b[32m━━━━━━━━━━━━━━━━━━━━\u001b[0m\u001b[37m\u001b[0m \u001b[1m158s\u001b[0m 248ms/step - accuracy: 0.1016 - loss: 5.6515 - val_accuracy: 0.1072 - val_loss: 7.9623\n",
      "Epoch 6/50\n",
      "\u001b[1m635/635\u001b[0m \u001b[32m━━━━━━━━━━━━━━━━━━━━\u001b[0m\u001b[37m\u001b[0m \u001b[1m157s\u001b[0m 247ms/step - accuracy: 0.1158 - loss: 5.4269 - val_accuracy: 0.1125 - val_loss: 8.1306\n",
      "Epoch 7/50\n",
      "\u001b[1m635/635\u001b[0m \u001b[32m━━━━━━━━━━━━━━━━━━━━\u001b[0m\u001b[37m\u001b[0m \u001b[1m154s\u001b[0m 243ms/step - accuracy: 0.1313 - loss: 5.2052 - val_accuracy: 0.1115 - val_loss: 8.5169\n",
      "Epoch 8/50\n",
      "\u001b[1m635/635\u001b[0m \u001b[32m━━━━━━━━━━━━━━━━━━━━\u001b[0m\u001b[37m\u001b[0m \u001b[1m163s\u001b[0m 257ms/step - accuracy: 0.1442 - loss: 4.9913 - val_accuracy: 0.1090 - val_loss: 8.9332\n",
      "Epoch 9/50\n",
      "\u001b[1m635/635\u001b[0m \u001b[32m━━━━━━━━━━━━━━━━━━━━\u001b[0m\u001b[37m\u001b[0m \u001b[1m163s\u001b[0m 256ms/step - accuracy: 0.1597 - loss: 4.7716 - val_accuracy: 0.1106 - val_loss: 9.2683\n",
      "Epoch 10/50\n",
      "\u001b[1m635/635\u001b[0m \u001b[32m━━━━━━━━━━━━━━━━━━━━\u001b[0m\u001b[37m\u001b[0m \u001b[1m157s\u001b[0m 248ms/step - accuracy: 0.1739 - loss: 4.5576 - val_accuracy: 0.0980 - val_loss: 9.7485\n",
      "Epoch 11/50\n",
      "\u001b[1m635/635\u001b[0m \u001b[32m━━━━━━━━━━━━━━━━━━━━\u001b[0m\u001b[37m\u001b[0m \u001b[1m162s\u001b[0m 254ms/step - accuracy: 0.1891 - loss: 4.3467 - val_accuracy: 0.0956 - val_loss: 10.2824\n",
      "Epoch 12/50\n",
      "\u001b[1m635/635\u001b[0m \u001b[32m━━━━━━━━━━━━━━━━━━━━\u001b[0m\u001b[37m\u001b[0m \u001b[1m199s\u001b[0m 313ms/step - accuracy: 0.2069 - loss: 4.1223 - val_accuracy: 0.0859 - val_loss: 11.0552\n",
      "Epoch 13/50\n",
      "\u001b[1m635/635\u001b[0m \u001b[32m━━━━━━━━━━━━━━━━━━━━\u001b[0m\u001b[37m\u001b[0m \u001b[1m199s\u001b[0m 314ms/step - accuracy: 0.2235 - loss: 3.9027 - val_accuracy: 0.0816 - val_loss: 11.9199\n",
      "Epoch 14/50\n",
      "\u001b[1m635/635\u001b[0m \u001b[32m━━━━━━━━━━━━━━━━━━━━\u001b[0m\u001b[37m\u001b[0m \u001b[1m264s\u001b[0m 416ms/step - accuracy: 0.2428 - loss: 3.6895 - val_accuracy: 0.0790 - val_loss: 12.6900\n",
      "Epoch 15/50\n",
      "\u001b[1m635/635\u001b[0m \u001b[32m━━━━━━━━━━━━━━━━━━━━\u001b[0m\u001b[37m\u001b[0m \u001b[1m261s\u001b[0m 318ms/step - accuracy: 0.2662 - loss: 3.4713 - val_accuracy: 0.0790 - val_loss: 13.6714\n",
      "Epoch 16/50\n",
      "\u001b[1m635/635\u001b[0m \u001b[32m━━━━━━━━━━━━━━━━━━━━\u001b[0m\u001b[37m\u001b[0m \u001b[1m165s\u001b[0m 260ms/step - accuracy: 0.2861 - loss: 3.2763 - val_accuracy: 0.0733 - val_loss: 13.9974\n",
      "Epoch 17/50\n",
      "\u001b[1m635/635\u001b[0m \u001b[32m━━━━━━━━━━━━━━━━━━━━\u001b[0m\u001b[37m\u001b[0m \u001b[1m161s\u001b[0m 253ms/step - accuracy: 0.3171 - loss: 3.0842 - val_accuracy: 0.0686 - val_loss: 15.2974\n",
      "Epoch 18/50\n",
      "\u001b[1m635/635\u001b[0m \u001b[32m━━━━━━━━━━━━━━━━━━━━\u001b[0m\u001b[37m\u001b[0m \u001b[1m168s\u001b[0m 265ms/step - accuracy: 0.3493 - loss: 2.8858 - val_accuracy: 0.0654 - val_loss: 16.0659\n",
      "Epoch 19/50\n",
      "\u001b[1m635/635\u001b[0m \u001b[32m━━━━━━━━━━━━━━━━━━━━\u001b[0m\u001b[37m\u001b[0m \u001b[1m161s\u001b[0m 254ms/step - accuracy: 0.3777 - loss: 2.7116 - val_accuracy: 0.0668 - val_loss: 16.7052\n",
      "Epoch 20/50\n",
      "\u001b[1m635/635\u001b[0m \u001b[32m━━━━━━━━━━━━━━━━━━━━\u001b[0m\u001b[37m\u001b[0m \u001b[1m161s\u001b[0m 253ms/step - accuracy: 0.4059 - loss: 2.5564 - val_accuracy: 0.0654 - val_loss: 17.2841\n",
      "Epoch 21/50\n",
      "\u001b[1m635/635\u001b[0m \u001b[32m━━━━━━━━━━━━━━━━━━━━\u001b[0m\u001b[37m\u001b[0m \u001b[1m160s\u001b[0m 251ms/step - accuracy: 0.4278 - loss: 2.4111 - val_accuracy: 0.0672 - val_loss: 18.0822\n",
      "Epoch 22/50\n",
      "\u001b[1m635/635\u001b[0m \u001b[32m━━━━━━━━━━━━━━━━━━━━\u001b[0m\u001b[37m\u001b[0m \u001b[1m195s\u001b[0m 241ms/step - accuracy: 0.4590 - loss: 2.2602 - val_accuracy: 0.0629 - val_loss: 18.7733\n",
      "Epoch 23/50\n",
      "\u001b[1m635/635\u001b[0m \u001b[32m━━━━━━━━━━━━━━━━━━━━\u001b[0m\u001b[37m\u001b[0m \u001b[1m157s\u001b[0m 247ms/step - accuracy: 0.4795 - loss: 2.1499 - val_accuracy: 0.0668 - val_loss: 19.4628\n",
      "Epoch 24/50\n",
      "\u001b[1m635/635\u001b[0m \u001b[32m━━━━━━━━━━━━━━━━━━━━\u001b[0m\u001b[37m\u001b[0m \u001b[1m157s\u001b[0m 248ms/step - accuracy: 0.5012 - loss: 2.0315 - val_accuracy: 0.0706 - val_loss: 20.0428\n",
      "Epoch 25/50\n",
      "\u001b[1m635/635\u001b[0m \u001b[32m━━━━━━━━━━━━━━━━━━━━\u001b[0m\u001b[37m\u001b[0m \u001b[1m167s\u001b[0m 263ms/step - accuracy: 0.5235 - loss: 1.9207 - val_accuracy: 0.0601 - val_loss: 20.6650\n",
      "Epoch 26/50\n",
      "\u001b[1m635/635\u001b[0m \u001b[32m━━━━━━━━━━━━━━━━━━━━\u001b[0m\u001b[37m\u001b[0m \u001b[1m221s\u001b[0m 349ms/step - accuracy: 0.5454 - loss: 1.8199 - val_accuracy: 0.0637 - val_loss: 20.7733\n",
      "Epoch 27/50\n",
      "\u001b[1m635/635\u001b[0m \u001b[32m━━━━━━━━━━━━━━━━━━━━\u001b[0m\u001b[37m\u001b[0m \u001b[1m192s\u001b[0m 302ms/step - accuracy: 0.5613 - loss: 1.7455 - val_accuracy: 0.0619 - val_loss: 21.4318\n",
      "Epoch 28/50\n",
      "\u001b[1m635/635\u001b[0m \u001b[32m━━━━━━━━━━━━━━━━━━━━\u001b[0m\u001b[37m\u001b[0m \u001b[1m171s\u001b[0m 270ms/step - accuracy: 0.5872 - loss: 1.6357 - val_accuracy: 0.0601 - val_loss: 21.9423\n",
      "Epoch 29/50\n",
      "\u001b[1m635/635\u001b[0m \u001b[32m━━━━━━━━━━━━━━━━━━━━\u001b[0m\u001b[37m\u001b[0m \u001b[1m165s\u001b[0m 259ms/step - accuracy: 0.6008 - loss: 1.5681 - val_accuracy: 0.0613 - val_loss: 22.6204\n",
      "Epoch 30/50\n",
      "\u001b[1m635/635\u001b[0m \u001b[32m━━━━━━━━━━━━━━━━━━━━\u001b[0m\u001b[37m\u001b[0m \u001b[1m160s\u001b[0m 251ms/step - accuracy: 0.6145 - loss: 1.4960 - val_accuracy: 0.0625 - val_loss: 22.8159\n",
      "Epoch 31/50\n",
      "\u001b[1m635/635\u001b[0m \u001b[32m━━━━━━━━━━━━━━━━━━━━\u001b[0m\u001b[37m\u001b[0m \u001b[1m160s\u001b[0m 252ms/step - accuracy: 0.6288 - loss: 1.4385 - val_accuracy: 0.0633 - val_loss: 23.0115\n",
      "Epoch 32/50\n",
      "\u001b[1m635/635\u001b[0m \u001b[32m━━━━━━━━━━━━━━━━━━━━\u001b[0m\u001b[37m\u001b[0m \u001b[1m168s\u001b[0m 264ms/step - accuracy: 0.6386 - loss: 1.3856 - val_accuracy: 0.0607 - val_loss: 23.3298\n",
      "Epoch 33/50\n",
      "\u001b[1m635/635\u001b[0m \u001b[32m━━━━━━━━━━━━━━━━━━━━\u001b[0m\u001b[37m\u001b[0m \u001b[1m169s\u001b[0m 266ms/step - accuracy: 0.6549 - loss: 1.3121 - val_accuracy: 0.0595 - val_loss: 23.5847\n",
      "Epoch 34/50\n",
      "\u001b[1m635/635\u001b[0m \u001b[32m━━━━━━━━━━━━━━━━━━━━\u001b[0m\u001b[37m\u001b[0m \u001b[1m157s\u001b[0m 248ms/step - accuracy: 0.6694 - loss: 1.2591 - val_accuracy: 0.0668 - val_loss: 23.6281\n",
      "Epoch 35/50\n",
      "\u001b[1m635/635\u001b[0m \u001b[32m━━━━━━━━━━━━━━━━━━━━\u001b[0m\u001b[37m\u001b[0m \u001b[1m163s\u001b[0m 257ms/step - accuracy: 0.6773 - loss: 1.2200 - val_accuracy: 0.0676 - val_loss: 24.1324\n",
      "Epoch 36/50\n",
      "\u001b[1m635/635\u001b[0m \u001b[32m━━━━━━━━━━━━━━━━━━━━\u001b[0m\u001b[37m\u001b[0m \u001b[1m162s\u001b[0m 256ms/step - accuracy: 0.6879 - loss: 1.1789 - val_accuracy: 0.0666 - val_loss: 24.1997\n",
      "Epoch 37/50\n",
      "\u001b[1m635/635\u001b[0m \u001b[32m━━━━━━━━━━━━━━━━━━━━\u001b[0m\u001b[37m\u001b[0m \u001b[1m156s\u001b[0m 245ms/step - accuracy: 0.7039 - loss: 1.1249 - val_accuracy: 0.0650 - val_loss: 24.5669\n",
      "Epoch 38/50\n",
      "\u001b[1m635/635\u001b[0m \u001b[32m━━━━━━━━━━━━━━━━━━━━\u001b[0m\u001b[37m\u001b[0m \u001b[1m157s\u001b[0m 247ms/step - accuracy: 0.7139 - loss: 1.0837 - val_accuracy: 0.0617 - val_loss: 24.8398\n",
      "Epoch 39/50\n",
      "\u001b[1m635/635\u001b[0m \u001b[32m━━━━━━━━━━━━━━━━━━━━\u001b[0m\u001b[37m\u001b[0m \u001b[1m168s\u001b[0m 265ms/step - accuracy: 0.7175 - loss: 1.0597 - val_accuracy: 0.0672 - val_loss: 25.1407\n",
      "Epoch 40/50\n",
      "\u001b[1m635/635\u001b[0m \u001b[32m━━━━━━━━━━━━━━━━━━━━\u001b[0m\u001b[37m\u001b[0m \u001b[1m162s\u001b[0m 256ms/step - accuracy: 0.7294 - loss: 1.0239 - val_accuracy: 0.0609 - val_loss: 24.9186\n",
      "Epoch 41/50\n",
      "\u001b[1m635/635\u001b[0m \u001b[32m━━━━━━━━━━━━━━━━━━━━\u001b[0m\u001b[37m\u001b[0m \u001b[1m156s\u001b[0m 246ms/step - accuracy: 0.7299 - loss: 1.0030 - val_accuracy: 0.0654 - val_loss: 25.4917\n",
      "Epoch 42/50\n",
      "\u001b[1m635/635\u001b[0m \u001b[32m━━━━━━━━━━━━━━━━━━━━\u001b[0m\u001b[37m\u001b[0m \u001b[1m156s\u001b[0m 246ms/step - accuracy: 0.7380 - loss: 0.9669 - val_accuracy: 0.0656 - val_loss: 24.8982\n",
      "Epoch 43/50\n",
      "\u001b[1m635/635\u001b[0m \u001b[32m━━━━━━━━━━━━━━━━━━━━\u001b[0m\u001b[37m\u001b[0m \u001b[1m176s\u001b[0m 277ms/step - accuracy: 0.7431 - loss: 0.9616 - val_accuracy: 0.0648 - val_loss: 25.0383\n",
      "Epoch 44/50\n",
      "\u001b[1m635/635\u001b[0m \u001b[32m━━━━━━━━━━━━━━━━━━━━\u001b[0m\u001b[37m\u001b[0m \u001b[1m181s\u001b[0m 243ms/step - accuracy: 0.7527 - loss: 0.9256 - val_accuracy: 0.0644 - val_loss: 25.7640\n",
      "Epoch 45/50\n",
      "\u001b[1m635/635\u001b[0m \u001b[32m━━━━━━━━━━━━━━━━━━━━\u001b[0m\u001b[37m\u001b[0m \u001b[1m159s\u001b[0m 250ms/step - accuracy: 0.7583 - loss: 0.8991 - val_accuracy: 0.0641 - val_loss: 25.8914\n",
      "Epoch 46/50\n",
      "\u001b[1m635/635\u001b[0m \u001b[32m━━━━━━━━━━━━━━━━━━━━\u001b[0m\u001b[37m\u001b[0m \u001b[1m166s\u001b[0m 261ms/step - accuracy: 0.7677 - loss: 0.8716 - val_accuracy: 0.0641 - val_loss: 26.0569\n",
      "Epoch 47/50\n",
      "\u001b[1m635/635\u001b[0m \u001b[32m━━━━━━━━━━━━━━━━━━━━\u001b[0m\u001b[37m\u001b[0m \u001b[1m162s\u001b[0m 255ms/step - accuracy: 0.7626 - loss: 0.8665 - val_accuracy: 0.0682 - val_loss: 26.2732\n",
      "Epoch 48/50\n",
      "\u001b[1m635/635\u001b[0m \u001b[32m━━━━━━━━━━━━━━━━━━━━\u001b[0m\u001b[37m\u001b[0m \u001b[1m156s\u001b[0m 246ms/step - accuracy: 0.7758 - loss: 0.8306 - val_accuracy: 0.0662 - val_loss: 26.3521\n",
      "Epoch 49/50\n",
      "\u001b[1m635/635\u001b[0m \u001b[32m━━━━━━━━━━━━━━━━━━━━\u001b[0m\u001b[37m\u001b[0m \u001b[1m157s\u001b[0m 247ms/step - accuracy: 0.7760 - loss: 0.8247 - val_accuracy: 0.0635 - val_loss: 26.3628\n",
      "Epoch 50/50\n",
      "\u001b[1m635/635\u001b[0m \u001b[32m━━━━━━━━━━━━━━━━━━━━\u001b[0m\u001b[37m\u001b[0m \u001b[1m170s\u001b[0m 267ms/step - accuracy: 0.7784 - loss: 0.8072 - val_accuracy: 0.0650 - val_loss: 26.5656\n"
     ]
    }
   ],
   "source": [
    "history = model.fit(\n",
    "    X, y,\n",
    "    epochs=50,\n",
    "    batch_size=32,\n",
    "    validation_split=0.2,\n",
    "    verbose=1,\n",
    "    # callbacks=[\n",
    "    #     tf.keras.callbacks.ReduceLROnPlateau(patience=3, factor=0.5, verbose=1),\n",
    "    #     tf.keras.callbacks.EarlyStopping(patience=5, restore_best_weights=True, monitor=\"val_loss\")\n",
    "    # ]\n",
    ")"
   ]
  },
  {
   "cell_type": "code",
   "execution_count": 75,
   "id": "9ffe205e",
   "metadata": {},
   "outputs": [
    {
     "name": "stdout",
     "output_type": "stream",
     "text": [
      "\n",
      "Top suggestions for next word:\n",
      "        cave  0.4685\n",
      "      minute  0.1905\n",
      "    reminder  0.1301\n",
      "        hump  0.0612\n",
      "         cup  0.0187\n",
      "\n",
      "Generated: There is a date to share with its timeless\n"
     ]
    }
   ],
   "source": [
    "# quick suggestions\n",
    "seed = \"There is a\"\n",
    "print(\"\\nTop suggestions for next word:\")\n",
    "for word, p in suggest_next_words(model, tokenizer, seed, seq_len_minus1=max_len-1, top_k=5, temperature=0.8):\n",
    "    print(f\"{word:>12s}  {p:.4f}\")\n",
    "\n",
    "# autocomplete demo\n",
    "generated = generate_text(model, tokenizer, seed, seq_len_minus1=max_len-1, num_words=6, temperature=0.9)\n",
    "print(\"\\nGenerated:\", generated)"
   ]
  },
  {
   "cell_type": "code",
   "execution_count": 76,
   "id": "427fce6f",
   "metadata": {},
   "outputs": [
    {
     "name": "stdout",
     "output_type": "stream",
     "text": [
      "Saved model + tokenizer to: predictive_text_artifacts\n"
     ]
    }
   ],
   "source": [
    "# save\n",
    "save_artifacts(model, tokenizer)"
   ]
  }
 ],
 "metadata": {
  "kernelspec": {
   "display_name": "Python 3",
   "language": "python",
   "name": "python3"
  },
  "language_info": {
   "codemirror_mode": {
    "name": "ipython",
    "version": 3
   },
   "file_extension": ".py",
   "mimetype": "text/x-python",
   "name": "python",
   "nbconvert_exporter": "python",
   "pygments_lexer": "ipython3",
   "version": "3.13.7"
  }
 },
 "nbformat": 4,
 "nbformat_minor": 5
}
